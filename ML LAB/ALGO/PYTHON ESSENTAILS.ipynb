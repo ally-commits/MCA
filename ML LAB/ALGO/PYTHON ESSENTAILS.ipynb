{
 "cells": [
  {
   "cell_type": "code",
   "execution_count": 30,
   "id": "e907fea2",
   "metadata": {},
   "outputs": [
    {
     "data": {
      "text/plain": [
       "3"
      ]
     },
     "execution_count": 30,
     "metadata": {},
     "output_type": "execute_result"
    }
   ],
   "source": [
    "#COUNT DIGIT IN STRING\n",
    "str = \"Alwin Carsta 003\"\n",
    "digitCount = 0;\n",
    "\n",
    "for s in str:\n",
    "    if(s.isdigit()):\n",
    "        digitCount = digitCount + 1\n",
    "        \n",
    "digitCount"
   ]
  },
  {
   "cell_type": "code",
   "execution_count": 31,
   "id": "bd4c423c",
   "metadata": {},
   "outputs": [
    {
     "data": {
      "text/plain": [
       "[5, 2, 3, 4, 1]"
      ]
     },
     "execution_count": 31,
     "metadata": {},
     "output_type": "execute_result"
    }
   ],
   "source": [
    "# INTERCHANGE FIRST AND LAST ELEMENT\n",
    "x = [1,2,3,4,5]\n",
    "\n",
    "a = x[0]\n",
    "x[0] = x[len(x) - 1]\n",
    "x[len(x) - 1] = a\n",
    "\n",
    "x"
   ]
  },
  {
   "cell_type": "code",
   "execution_count": 32,
   "id": "35f60f30",
   "metadata": {},
   "outputs": [
    {
     "data": {
      "text/plain": [
       "600"
      ]
     },
     "execution_count": 32,
     "metadata": {},
     "output_type": "execute_result"
    }
   ],
   "source": [
    "#LOOP DICT AND COUNT\n",
    "dictObj = {'A':100,'B':200,'C': 300}\n",
    "total = 0;\n",
    "for i in dictObj:\n",
    "    total+=dictObj[i]\n",
    "\n",
    "total"
   ]
  },
  {
   "cell_type": "code",
   "execution_count": 33,
   "id": "6e0f0883",
   "metadata": {},
   "outputs": [
    {
     "data": {
      "text/plain": [
       "['1', '2', '3', '4', '5', '6']"
      ]
     },
     "execution_count": 33,
     "metadata": {},
     "output_type": "execute_result"
    }
   ],
   "source": [
    "#SPLIT STRING TO ARRAY\n",
    "str = \"1 2 3 4 5 6\";\n",
    "strArr = str.split(\" \")\n",
    "strArr"
   ]
  },
  {
   "cell_type": "code",
   "execution_count": 34,
   "id": "51c8009c",
   "metadata": {},
   "outputs": [
    {
     "data": {
      "text/plain": [
       "<AxesSubplot:>"
      ]
     },
     "execution_count": 34,
     "metadata": {},
     "output_type": "execute_result"
    },
    {
     "data": {
      "image/png": "[encoded data removed]",
      "text/plain": [
       "<Figure size 640x480 with 1 Axes>"
      ]
     },
     "metadata": {},
     "output_type": "display_data"
    }
   ],
   "source": [
    "#QUARTILES\n",
    "import random\n",
    "import numpy as np\n",
    "import pandas as pd\n",
    "\n",
    "x = random.sample(range(0,100), 20)\n",
    "quartiles = np.percentile(x, [25,50,75])\n",
    "\n",
    "df = pd.DataFrame({'x': x})\n",
    "df.boxplot()"
   ]
  },
  {
   "cell_type": "code",
   "execution_count": 37,
   "id": "232b933e",
   "metadata": {},
   "outputs": [
    {
     "data": {
      "text/plain": [
       "x    59.0\n",
       "Name: 0.75, dtype: float64"
      ]
     },
     "execution_count": 37,
     "metadata": {},
     "output_type": "execute_result"
    }
   ],
   "source": [
    "df.quantile(q)"
   ]
  },
  {
   "cell_type": "code",
   "execution_count": null,
   "id": "8561fcc6",
   "metadata": {},
   "outputs": [],
   "source": []
  }
 ],
 "metadata": {
  "kernelspec": {
   "display_name": "Python 3 (ipykernel)",
   "language": "python",
   "name": "python3"
  },
  "language_info": {
   "codemirror_mode": {
    "name": "ipython",
    "version": 3
   },
   "file_extension": ".py",
   "mimetype": "text/x-python",
   "name": "python",
   "nbconvert_exporter": "python",
   "pygments_lexer": "ipython3",
   "version": "3.9.12"
  }
 },
 "nbformat": 4,
 "nbformat_minor": 5
}
