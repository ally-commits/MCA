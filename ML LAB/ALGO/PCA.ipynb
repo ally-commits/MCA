{
 "cells": [
  {
   "cell_type": "code",
   "execution_count": 1,
   "id": "38004e10",
   "metadata": {},
   "outputs": [],
   "source": [
    "import matplotlib.pyplot as plt\n",
    "import numpy as np\n",
    "import pandas as pd"
   ]
  },
  {
   "cell_type": "code",
   "execution_count": 2,
   "id": "7c47ceec",
   "metadata": {},
   "outputs": [],
   "source": [
    "from sklearn.datasets import load_breast_cancer"
   ]
  },
  {
   "cell_type": "code",
   "execution_count": 3,
   "id": "382c3db1",
   "metadata": {},
   "outputs": [],
   "source": [
    "cancer = load_breast_cancer()"
   ]
  },
  {
   "cell_type": "code",
   "execution_count": 4,
   "id": "63173422",
   "metadata": {},
   "outputs": [
    {
     "data": {
      "text/plain": [
       "dict_keys(['data', 'target', 'frame', 'target_names', 'DESCR', 'feature_names', 'filename', 'data_module'])"
      ]
     },
     "execution_count": 4,
     "metadata": {},
     "output_type": "execute_result"
    }
   ],
   "source": [
    "cancer.keys()"
   ]
  },
  {
   "cell_type": "code",
   "execution_count": 5,
   "id": "22f78ce2",
   "metadata": {},
   "outputs": [],
   "source": [
    "df = pd.DataFrame(cancer['data'], columns=cancer['feature_names'])"
   ]
  },
  {
   "cell_type": "code",
   "execution_count": 14,
   "id": "9062ff99",
   "metadata": {},
   "outputs": [
    {
     "data": {
      "text/html": [
       "<div>\n",
       "<style scoped>\n",
       "    .dataframe tbody tr th:only-of-type {\n",
       "        vertical-align: middle;\n",
       "    }\n",
       "\n",
       "    .dataframe tbody tr th {\n",
       "        vertical-align: top;\n",
       "    }\n",
       "\n",
       "    .dataframe thead th {\n",
       "        text-align: right;\n",
       "    }\n",
       "</style>\n",
       "<table border=\"1\" class=\"dataframe\">\n",
       "  <thead>\n",
       "    <tr style=\"text-align: right;\">\n",
       "      <th></th>\n",
       "      <th>mean radius</th>\n",
       "      <th>mean texture</th>\n",
       "      <th>mean perimeter</th>\n",
       "      <th>mean area</th>\n",
       "      <th>mean smoothness</th>\n",
       "      <th>mean compactness</th>\n",
       "      <th>mean concavity</th>\n",
       "      <th>mean concave points</th>\n",
       "      <th>mean symmetry</th>\n",
       "      <th>mean fractal dimension</th>\n",
       "      <th>...</th>\n",
       "      <th>worst radius</th>\n",
       "      <th>worst texture</th>\n",
       "      <th>worst perimeter</th>\n",
       "      <th>worst area</th>\n",
       "      <th>worst smoothness</th>\n",
       "      <th>worst compactness</th>\n",
       "      <th>worst concavity</th>\n",
       "      <th>worst concave points</th>\n",
       "      <th>worst symmetry</th>\n",
       "      <th>worst fractal dimension</th>\n",
       "    </tr>\n",
       "  </thead>\n",
       "  <tbody>\n",
       "    <tr>\n",
       "      <th>count</th>\n",
       "      <td>569.000000</td>\n",
       "      <td>569.000000</td>\n",
       "      <td>569.000000</td>\n",
       "      <td>569.000000</td>\n",
       "      <td>569.000000</td>\n",
       "      <td>569.000000</td>\n",
       "      <td>569.000000</td>\n",
       "      <td>569.000000</td>\n",
       "      <td>569.000000</td>\n",
       "      <td>569.000000</td>\n",
       "      <td>...</td>\n",
       "      <td>569.000000</td>\n",
       "      <td>569.000000</td>\n",
       "      <td>569.000000</td>\n",
       "      <td>569.000000</td>\n",
       "      <td>569.000000</td>\n",
       "      <td>569.000000</td>\n",
       "      <td>569.000000</td>\n",
       "      <td>569.000000</td>\n",
       "      <td>569.000000</td>\n",
       "      <td>569.000000</td>\n",
       "    </tr>\n",
       "    <tr>\n",
       "      <th>mean</th>\n",
       "      <td>14.127292</td>\n",
       "      <td>19.289649</td>\n",
       "      <td>91.969033</td>\n",
       "      <td>654.889104</td>\n",
       "      <td>0.096360</td>\n",
       "      <td>0.104341</td>\n",
       "      <td>0.088799</td>\n",
       "      <td>0.048919</td>\n",
       "      <td>0.181162</td>\n",
       "      <td>0.062798</td>\n",
       "      <td>...</td>\n",
       "      <td>16.269190</td>\n",
       "      <td>25.677223</td>\n",
       "      <td>107.261213</td>\n",
       "      <td>880.583128</td>\n",
       "      <td>0.132369</td>\n",
       "      <td>0.254265</td>\n",
       "      <td>0.272188</td>\n",
       "      <td>0.114606</td>\n",
       "      <td>0.290076</td>\n",
       "      <td>0.083946</td>\n",
       "    </tr>\n",
       "    <tr>\n",
       "      <th>std</th>\n",
       "      <td>3.524049</td>\n",
       "      <td>4.301036</td>\n",
       "      <td>24.298981</td>\n",
       "      <td>351.914129</td>\n",
       "      <td>0.014064</td>\n",
       "      <td>0.052813</td>\n",
       "      <td>0.079720</td>\n",
       "      <td>0.038803</td>\n",
       "      <td>0.027414</td>\n",
       "      <td>0.007060</td>\n",
       "      <td>...</td>\n",
       "      <td>4.833242</td>\n",
       "      <td>6.146258</td>\n",
       "      <td>33.602542</td>\n",
       "      <td>569.356993</td>\n",
       "      <td>0.022832</td>\n",
       "      <td>0.157336</td>\n",
       "      <td>0.208624</td>\n",
       "      <td>0.065732</td>\n",
       "      <td>0.061867</td>\n",
       "      <td>0.018061</td>\n",
       "    </tr>\n",
       "    <tr>\n",
       "      <th>min</th>\n",
       "      <td>6.981000</td>\n",
       "      <td>9.710000</td>\n",
       "      <td>43.790000</td>\n",
       "      <td>143.500000</td>\n",
       "      <td>0.052630</td>\n",
       "      <td>0.019380</td>\n",
       "      <td>0.000000</td>\n",
       "      <td>0.000000</td>\n",
       "      <td>0.106000</td>\n",
       "      <td>0.049960</td>\n",
       "      <td>...</td>\n",
       "      <td>7.930000</td>\n",
       "      <td>12.020000</td>\n",
       "      <td>50.410000</td>\n",
       "      <td>185.200000</td>\n",
       "      <td>0.071170</td>\n",
       "      <td>0.027290</td>\n",
       "      <td>0.000000</td>\n",
       "      <td>0.000000</td>\n",
       "      <td>0.156500</td>\n",
       "      <td>0.055040</td>\n",
       "    </tr>\n",
       "    <tr>\n",
       "      <th>25%</th>\n",
       "      <td>11.700000</td>\n",
       "      <td>16.170000</td>\n",
       "      <td>75.170000</td>\n",
       "      <td>420.300000</td>\n",
       "      <td>0.086370</td>\n",
       "      <td>0.064920</td>\n",
       "      <td>0.029560</td>\n",
       "      <td>0.020310</td>\n",
       "      <td>0.161900</td>\n",
       "      <td>0.057700</td>\n",
       "      <td>...</td>\n",
       "      <td>13.010000</td>\n",
       "      <td>21.080000</td>\n",
       "      <td>84.110000</td>\n",
       "      <td>515.300000</td>\n",
       "      <td>0.116600</td>\n",
       "      <td>0.147200</td>\n",
       "      <td>0.114500</td>\n",
       "      <td>0.064930</td>\n",
       "      <td>0.250400</td>\n",
       "      <td>0.071460</td>\n",
       "    </tr>\n",
       "    <tr>\n",
       "      <th>50%</th>\n",
       "      <td>13.370000</td>\n",
       "      <td>18.840000</td>\n",
       "      <td>86.240000</td>\n",
       "      <td>551.100000</td>\n",
       "      <td>0.095870</td>\n",
       "      <td>0.092630</td>\n",
       "      <td>0.061540</td>\n",
       "      <td>0.033500</td>\n",
       "      <td>0.179200</td>\n",
       "      <td>0.061540</td>\n",
       "      <td>...</td>\n",
       "      <td>14.970000</td>\n",
       "      <td>25.410000</td>\n",
       "      <td>97.660000</td>\n",
       "      <td>686.500000</td>\n",
       "      <td>0.131300</td>\n",
       "      <td>0.211900</td>\n",
       "      <td>0.226700</td>\n",
       "      <td>0.099930</td>\n",
       "      <td>0.282200</td>\n",
       "      <td>0.080040</td>\n",
       "    </tr>\n",
       "    <tr>\n",
       "      <th>75%</th>\n",
       "      <td>15.780000</td>\n",
       "      <td>21.800000</td>\n",
       "      <td>104.100000</td>\n",
       "      <td>782.700000</td>\n",
       "      <td>0.105300</td>\n",
       "      <td>0.130400</td>\n",
       "      <td>0.130700</td>\n",
       "      <td>0.074000</td>\n",
       "      <td>0.195700</td>\n",
       "      <td>0.066120</td>\n",
       "      <td>...</td>\n",
       "      <td>18.790000</td>\n",
       "      <td>29.720000</td>\n",
       "      <td>125.400000</td>\n",
       "      <td>1084.000000</td>\n",
       "      <td>0.146000</td>\n",
       "      <td>0.339100</td>\n",
       "      <td>0.382900</td>\n",
       "      <td>0.161400</td>\n",
       "      <td>0.317900</td>\n",
       "      <td>0.092080</td>\n",
       "    </tr>\n",
       "    <tr>\n",
       "      <th>max</th>\n",
       "      <td>28.110000</td>\n",
       "      <td>39.280000</td>\n",
       "      <td>188.500000</td>\n",
       "      <td>2501.000000</td>\n",
       "      <td>0.163400</td>\n",
       "      <td>0.345400</td>\n",
       "      <td>0.426800</td>\n",
       "      <td>0.201200</td>\n",
       "      <td>0.304000</td>\n",
       "      <td>0.097440</td>\n",
       "      <td>...</td>\n",
       "      <td>36.040000</td>\n",
       "      <td>49.540000</td>\n",
       "      <td>251.200000</td>\n",
       "      <td>4254.000000</td>\n",
       "      <td>0.222600</td>\n",
       "      <td>1.058000</td>\n",
       "      <td>1.252000</td>\n",
       "      <td>0.291000</td>\n",
       "      <td>0.663800</td>\n",
       "      <td>0.207500</td>\n",
       "    </tr>\n",
       "  </tbody>\n",
       "</table>\n",
       "<p>8 rows × 30 columns</p>\n",
       "</div>"
      ],
      "text/plain": [
       "       mean radius  mean texture  mean perimeter    mean area  \\\n",
       "count   569.000000    569.000000      569.000000   569.000000   \n",
       "mean     14.127292     19.289649       91.969033   654.889104   \n",
       "std       3.524049      4.301036       24.298981   351.914129   \n",
       "min       6.981000      9.710000       43.790000   143.500000   \n",
       "25%      11.700000     16.170000       75.170000   420.300000   \n",
       "50%      13.370000     18.840000       86.240000   551.100000   \n",
       "75%      15.780000     21.800000      104.100000   782.700000   \n",
       "max      28.110000     39.280000      188.500000  2501.000000   \n",
       "\n",
       "       mean smoothness  mean compactness  mean concavity  mean concave points  \\\n",
       "count       569.000000        569.000000      569.000000           569.000000   \n",
       "mean          0.096360          0.104341        0.088799             0.048919   \n",
       "std           0.014064          0.052813        0.079720             0.038803   \n",
       "min           0.052630          0.019380        0.000000             0.000000   \n",
       "25%           0.086370          0.064920        0.029560             0.020310   \n",
       "50%           0.095870          0.092630        0.061540             0.033500   \n",
       "75%           0.105300          0.130400        0.130700             0.074000   \n",
       "max           0.163400          0.345400        0.426800             0.201200   \n",
       "\n",
       "       mean symmetry  mean fractal dimension  ...  worst radius  \\\n",
       "count     569.000000              569.000000  ...    569.000000   \n",
       "mean        0.181162                0.062798  ...     16.269190   \n",
       "std         0.027414                0.007060  ...      4.833242   \n",
       "min         0.106000                0.049960  ...      7.930000   \n",
       "25%         0.161900                0.057700  ...     13.010000   \n",
       "50%         0.179200                0.061540  ...     14.970000   \n",
       "75%         0.195700                0.066120  ...     18.790000   \n",
       "max         0.304000                0.097440  ...     36.040000   \n",
       "\n",
       "       worst texture  worst perimeter   worst area  worst smoothness  \\\n",
       "count     569.000000       569.000000   569.000000        569.000000   \n",
       "mean       25.677223       107.261213   880.583128          0.132369   \n",
       "std         6.146258        33.602542   569.356993          0.022832   \n",
       "min        12.020000        50.410000   185.200000          0.071170   \n",
       "25%        21.080000        84.110000   515.300000          0.116600   \n",
       "50%        25.410000        97.660000   686.500000          0.131300   \n",
       "75%        29.720000       125.400000  1084.000000          0.146000   \n",
       "max        49.540000       251.200000  4254.000000          0.222600   \n",
       "\n",
       "       worst compactness  worst concavity  worst concave points  \\\n",
       "count         569.000000       569.000000            569.000000   \n",
       "mean            0.254265         0.272188              0.114606   \n",
       "std             0.157336         0.208624              0.065732   \n",
       "min             0.027290         0.000000              0.000000   \n",
       "25%             0.147200         0.114500              0.064930   \n",
       "50%             0.211900         0.226700              0.099930   \n",
       "75%             0.339100         0.382900              0.161400   \n",
       "max             1.058000         1.252000              0.291000   \n",
       "\n",
       "       worst symmetry  worst fractal dimension  \n",
       "count      569.000000               569.000000  \n",
       "mean         0.290076                 0.083946  \n",
       "std          0.061867                 0.018061  \n",
       "min          0.156500                 0.055040  \n",
       "25%          0.250400                 0.071460  \n",
       "50%          0.282200                 0.080040  \n",
       "75%          0.317900                 0.092080  \n",
       "max          0.663800                 0.207500  \n",
       "\n",
       "[8 rows x 30 columns]"
      ]
     },
     "execution_count": 14,
     "metadata": {},
     "output_type": "execute_result"
    }
   ],
   "source": [
    "df.head(5)\n",
    "df.describe()"
   ]
  },
  {
   "cell_type": "code",
   "execution_count": 8,
   "id": "f36f33e4",
   "metadata": {},
   "outputs": [],
   "source": [
    "from sklearn.preprocessing import StandardScaler"
   ]
  },
  {
   "cell_type": "code",
   "execution_count": 9,
   "id": "a77c2cad",
   "metadata": {},
   "outputs": [
    {
     "data": {
      "text/html": [
       "<style>#sk-container-id-1 {color: black;background-color: white;}#sk-container-id-1 pre{padding: 0;}#sk-container-id-1 div.sk-toggleable {background-color: white;}#sk-container-id-1 label.sk-toggleable__label {cursor: pointer;display: block;width: 100%;margin-bottom: 0;padding: 0.3em;box-sizing: border-box;text-align: center;}#sk-container-id-1 label.sk-toggleable__label-arrow:before {content: \"▸\";float: left;margin-right: 0.25em;color: #696969;}#sk-container-id-1 label.sk-toggleable__label-arrow:hover:before {color: black;}#sk-container-id-1 div.sk-estimator:hover label.sk-toggleable__label-arrow:before {color: black;}#sk-container-id-1 div.sk-toggleable__content {max-height: 0;max-width: 0;overflow: hidden;text-align: left;background-color: #f0f8ff;}#sk-container-id-1 div.sk-toggleable__content pre {margin: 0.2em;color: black;border-radius: 0.25em;background-color: #f0f8ff;}#sk-container-id-1 input.sk-toggleable__control:checked~div.sk-toggleable__content {max-height: 200px;max-width: 100%;overflow: auto;}#sk-container-id-1 input.sk-toggleable__control:checked~label.sk-toggleable__label-arrow:before {content: \"▾\";}#sk-container-id-1 div.sk-estimator input.sk-toggleable__control:checked~label.sk-toggleable__label {background-color: #d4ebff;}#sk-container-id-1 div.sk-label input.sk-toggleable__control:checked~label.sk-toggleable__label {background-color: #d4ebff;}#sk-container-id-1 input.sk-hidden--visually {border: 0;clip: rect(1px 1px 1px 1px);clip: rect(1px, 1px, 1px, 1px);height: 1px;margin: -1px;overflow: hidden;padding: 0;position: absolute;width: 1px;}#sk-container-id-1 div.sk-estimator {font-family: monospace;background-color: #f0f8ff;border: 1px dotted black;border-radius: 0.25em;box-sizing: border-box;margin-bottom: 0.5em;}#sk-container-id-1 div.sk-estimator:hover {background-color: #d4ebff;}#sk-container-id-1 div.sk-parallel-item::after {content: \"\";width: 100%;border-bottom: 1px solid gray;flex-grow: 1;}#sk-container-id-1 div.sk-label:hover label.sk-toggleable__label {background-color: #d4ebff;}#sk-container-id-1 div.sk-serial::before {content: \"\";position: absolute;border-left: 1px solid gray;box-sizing: border-box;top: 0;bottom: 0;left: 50%;z-index: 0;}#sk-container-id-1 div.sk-serial {display: flex;flex-direction: column;align-items: center;background-color: white;padding-right: 0.2em;padding-left: 0.2em;position: relative;}#sk-container-id-1 div.sk-item {position: relative;z-index: 1;}#sk-container-id-1 div.sk-parallel {display: flex;align-items: stretch;justify-content: center;background-color: white;position: relative;}#sk-container-id-1 div.sk-item::before, #sk-container-id-1 div.sk-parallel-item::before {content: \"\";position: absolute;border-left: 1px solid gray;box-sizing: border-box;top: 0;bottom: 0;left: 50%;z-index: -1;}#sk-container-id-1 div.sk-parallel-item {display: flex;flex-direction: column;z-index: 1;position: relative;background-color: white;}#sk-container-id-1 div.sk-parallel-item:first-child::after {align-self: flex-end;width: 50%;}#sk-container-id-1 div.sk-parallel-item:last-child::after {align-self: flex-start;width: 50%;}#sk-container-id-1 div.sk-parallel-item:only-child::after {width: 0;}#sk-container-id-1 div.sk-dashed-wrapped {border: 1px dashed gray;margin: 0 0.4em 0.5em 0.4em;box-sizing: border-box;padding-bottom: 0.4em;background-color: white;}#sk-container-id-1 div.sk-label label {font-family: monospace;font-weight: bold;display: inline-block;line-height: 1.2em;}#sk-container-id-1 div.sk-label-container {text-align: center;}#sk-container-id-1 div.sk-container {/* jupyter's `normalize.less` sets `[hidden] { display: none; }` but bootstrap.min.css set `[hidden] { display: none !important; }` so we also need the `!important` here to be able to override the default hidden behavior on the sphinx rendered scikit-learn.org. See: https://github.com/scikit-learn/scikit-learn/issues/21755 */display: inline-block !important;position: relative;}#sk-container-id-1 div.sk-text-repr-fallback {display: none;}</style><div id=\"sk-container-id-1\" class=\"sk-top-container\"><div class=\"sk-text-repr-fallback\"><pre>StandardScaler()</pre><b>In a Jupyter environment, please rerun this cell to show the HTML representation or trust the notebook. <br />On GitHub, the HTML representation is unable to render, please try loading this page with nbviewer.org.</b></div><div class=\"sk-container\" hidden><div class=\"sk-item\"><div class=\"sk-estimator sk-toggleable\"><input class=\"sk-toggleable__control sk-hidden--visually\" id=\"sk-estimator-id-1\" type=\"checkbox\" checked><label for=\"sk-estimator-id-1\" class=\"sk-toggleable__label sk-toggleable__label-arrow\">StandardScaler</label><div class=\"sk-toggleable__content\"><pre>StandardScaler()</pre></div></div></div></div></div>"
      ],
      "text/plain": [
       "StandardScaler()"
      ]
     },
     "execution_count": 9,
     "metadata": {},
     "output_type": "execute_result"
    }
   ],
   "source": [
    "scaler = StandardScaler()\n",
    "scaler.fit(df)"
   ]
  },
  {
   "cell_type": "code",
   "execution_count": 11,
   "id": "060810cb",
   "metadata": {},
   "outputs": [
    {
     "data": {
      "text/plain": [
       "array([[ 1.09706398, -2.07333501,  1.26993369, ...,  2.29607613,\n",
       "         2.75062224,  1.93701461],\n",
       "       [ 1.82982061, -0.35363241,  1.68595471, ...,  1.0870843 ,\n",
       "        -0.24388967,  0.28118999],\n",
       "       [ 1.57988811,  0.45618695,  1.56650313, ...,  1.95500035,\n",
       "         1.152255  ,  0.20139121],\n",
       "       ...,\n",
       "       [ 0.70228425,  2.0455738 ,  0.67267578, ...,  0.41406869,\n",
       "        -1.10454895, -0.31840916],\n",
       "       [ 1.83834103,  2.33645719,  1.98252415, ...,  2.28998549,\n",
       "         1.91908301,  2.21963528],\n",
       "       [-1.80840125,  1.22179204, -1.81438851, ..., -1.74506282,\n",
       "        -0.04813821, -0.75120669]])"
      ]
     },
     "execution_count": 11,
     "metadata": {},
     "output_type": "execute_result"
    }
   ],
   "source": [
    "scaled_data=scaler.transform(df)\n",
    "scaled_data"
   ]
  },
  {
   "cell_type": "code",
   "execution_count": 12,
   "id": "f01b1c27",
   "metadata": {},
   "outputs": [],
   "source": [
    "from sklearn.decomposition import PCA"
   ]
  },
  {
   "cell_type": "code",
   "execution_count": 20,
   "id": "7904c334",
   "metadata": {},
   "outputs": [],
   "source": [
    "pca = PCA(n_components=2)"
   ]
  },
  {
   "cell_type": "code",
   "execution_count": 21,
   "id": "40cde878",
   "metadata": {},
   "outputs": [
    {
     "data": {
      "text/html": [
       "<style>#sk-container-id-3 {color: black;background-color: white;}#sk-container-id-3 pre{padding: 0;}#sk-container-id-3 div.sk-toggleable {background-color: white;}#sk-container-id-3 label.sk-toggleable__label {cursor: pointer;display: block;width: 100%;margin-bottom: 0;padding: 0.3em;box-sizing: border-box;text-align: center;}#sk-container-id-3 label.sk-toggleable__label-arrow:before {content: \"▸\";float: left;margin-right: 0.25em;color: #696969;}#sk-container-id-3 label.sk-toggleable__label-arrow:hover:before {color: black;}#sk-container-id-3 div.sk-estimator:hover label.sk-toggleable__label-arrow:before {color: black;}#sk-container-id-3 div.sk-toggleable__content {max-height: 0;max-width: 0;overflow: hidden;text-align: left;background-color: #f0f8ff;}#sk-container-id-3 div.sk-toggleable__content pre {margin: 0.2em;color: black;border-radius: 0.25em;background-color: #f0f8ff;}#sk-container-id-3 input.sk-toggleable__control:checked~div.sk-toggleable__content {max-height: 200px;max-width: 100%;overflow: auto;}#sk-container-id-3 input.sk-toggleable__control:checked~label.sk-toggleable__label-arrow:before {content: \"▾\";}#sk-container-id-3 div.sk-estimator input.sk-toggleable__control:checked~label.sk-toggleable__label {background-color: #d4ebff;}#sk-container-id-3 div.sk-label input.sk-toggleable__control:checked~label.sk-toggleable__label {background-color: #d4ebff;}#sk-container-id-3 input.sk-hidden--visually {border: 0;clip: rect(1px 1px 1px 1px);clip: rect(1px, 1px, 1px, 1px);height: 1px;margin: -1px;overflow: hidden;padding: 0;position: absolute;width: 1px;}#sk-container-id-3 div.sk-estimator {font-family: monospace;background-color: #f0f8ff;border: 1px dotted black;border-radius: 0.25em;box-sizing: border-box;margin-bottom: 0.5em;}#sk-container-id-3 div.sk-estimator:hover {background-color: #d4ebff;}#sk-container-id-3 div.sk-parallel-item::after {content: \"\";width: 100%;border-bottom: 1px solid gray;flex-grow: 1;}#sk-container-id-3 div.sk-label:hover label.sk-toggleable__label {background-color: #d4ebff;}#sk-container-id-3 div.sk-serial::before {content: \"\";position: absolute;border-left: 1px solid gray;box-sizing: border-box;top: 0;bottom: 0;left: 50%;z-index: 0;}#sk-container-id-3 div.sk-serial {display: flex;flex-direction: column;align-items: center;background-color: white;padding-right: 0.2em;padding-left: 0.2em;position: relative;}#sk-container-id-3 div.sk-item {position: relative;z-index: 1;}#sk-container-id-3 div.sk-parallel {display: flex;align-items: stretch;justify-content: center;background-color: white;position: relative;}#sk-container-id-3 div.sk-item::before, #sk-container-id-3 div.sk-parallel-item::before {content: \"\";position: absolute;border-left: 1px solid gray;box-sizing: border-box;top: 0;bottom: 0;left: 50%;z-index: -1;}#sk-container-id-3 div.sk-parallel-item {display: flex;flex-direction: column;z-index: 1;position: relative;background-color: white;}#sk-container-id-3 div.sk-parallel-item:first-child::after {align-self: flex-end;width: 50%;}#sk-container-id-3 div.sk-parallel-item:last-child::after {align-self: flex-start;width: 50%;}#sk-container-id-3 div.sk-parallel-item:only-child::after {width: 0;}#sk-container-id-3 div.sk-dashed-wrapped {border: 1px dashed gray;margin: 0 0.4em 0.5em 0.4em;box-sizing: border-box;padding-bottom: 0.4em;background-color: white;}#sk-container-id-3 div.sk-label label {font-family: monospace;font-weight: bold;display: inline-block;line-height: 1.2em;}#sk-container-id-3 div.sk-label-container {text-align: center;}#sk-container-id-3 div.sk-container {/* jupyter's `normalize.less` sets `[hidden] { display: none; }` but bootstrap.min.css set `[hidden] { display: none !important; }` so we also need the `!important` here to be able to override the default hidden behavior on the sphinx rendered scikit-learn.org. See: https://github.com/scikit-learn/scikit-learn/issues/21755 */display: inline-block !important;position: relative;}#sk-container-id-3 div.sk-text-repr-fallback {display: none;}</style><div id=\"sk-container-id-3\" class=\"sk-top-container\"><div class=\"sk-text-repr-fallback\"><pre>PCA(n_components=2)</pre><b>In a Jupyter environment, please rerun this cell to show the HTML representation or trust the notebook. <br />On GitHub, the HTML representation is unable to render, please try loading this page with nbviewer.org.</b></div><div class=\"sk-container\" hidden><div class=\"sk-item\"><div class=\"sk-estimator sk-toggleable\"><input class=\"sk-toggleable__control sk-hidden--visually\" id=\"sk-estimator-id-3\" type=\"checkbox\" checked><label for=\"sk-estimator-id-3\" class=\"sk-toggleable__label sk-toggleable__label-arrow\">PCA</label><div class=\"sk-toggleable__content\"><pre>PCA(n_components=2)</pre></div></div></div></div></div>"
      ],
      "text/plain": [
       "PCA(n_components=2)"
      ]
     },
     "execution_count": 21,
     "metadata": {},
     "output_type": "execute_result"
    }
   ],
   "source": [
    "pca.fit(scaled_data)"
   ]
  },
  {
   "cell_type": "code",
   "execution_count": 22,
   "id": "c4d74a29",
   "metadata": {},
   "outputs": [],
   "source": [
    "x_pca = pca.transform(scaled_data)"
   ]
  },
  {
   "cell_type": "code",
   "execution_count": 23,
   "id": "79ff1058",
   "metadata": {},
   "outputs": [
    {
     "data": {
      "text/plain": [
       "(569, 30)"
      ]
     },
     "execution_count": 23,
     "metadata": {},
     "output_type": "execute_result"
    }
   ],
   "source": [
    "scaled_data.shape"
   ]
  },
  {
   "cell_type": "code",
   "execution_count": 24,
   "id": "d63ae30e",
   "metadata": {},
   "outputs": [
    {
     "data": {
      "text/plain": [
       "(569, 2)"
      ]
     },
     "execution_count": 24,
     "metadata": {},
     "output_type": "execute_result"
    }
   ],
   "source": [
    "x_pca.shape"
   ]
  },
  {
   "cell_type": "code",
   "execution_count": 27,
   "id": "a87a6440",
   "metadata": {},
   "outputs": [
    {
     "data": {
      "text/plain": [
       "Text(0, 0.5, 'Second Principel Comp')"
      ]
     },
     "execution_count": 27,
     "metadata": {},
     "output_type": "execute_result"
    },
    {
     "data": {
      "image/png": "[encoded data removed]",
      "text/plain": [
       "<Figure size 576x432 with 1 Axes>"
      ]
     },
     "metadata": {
      "needs_background": "light"
     },
     "output_type": "display_data"
    }
   ],
   "source": [
    "plt.figure(figsize=(8,6))\n",
    "plt.scatter(x_pca[:,0],x_pca[:,1], c=cancer['target'])\n",
    "plt.xlabel('First Principel Comp')\n",
    "plt.ylabel('Second Principel Comp')"
   ]
  },
  {
   "cell_type": "code",
   "execution_count": 28,
   "id": "7cb214cb",
   "metadata": {},
   "outputs": [
    {
     "data": {
      "text/plain": [
       "array([[ 0.21890244,  0.10372458,  0.22753729,  0.22099499,  0.14258969,\n",
       "         0.23928535,  0.25840048,  0.26085376,  0.13816696,  0.06436335,\n",
       "         0.20597878,  0.01742803,  0.21132592,  0.20286964,  0.01453145,\n",
       "         0.17039345,  0.15358979,  0.1834174 ,  0.04249842,  0.10256832,\n",
       "         0.22799663,  0.10446933,  0.23663968,  0.22487053,  0.12795256,\n",
       "         0.21009588,  0.22876753,  0.25088597,  0.12290456,  0.13178394],\n",
       "       [-0.23385713, -0.05970609, -0.21518136, -0.23107671,  0.18611302,\n",
       "         0.15189161,  0.06016536, -0.0347675 ,  0.19034877,  0.36657547,\n",
       "        -0.10555215,  0.08997968, -0.08945723, -0.15229263,  0.20443045,\n",
       "         0.2327159 ,  0.19720728,  0.13032156,  0.183848  ,  0.28009203,\n",
       "        -0.21986638, -0.0454673 , -0.19987843, -0.21935186,  0.17230435,\n",
       "         0.14359317,  0.09796411, -0.00825724,  0.14188335,  0.27533947]])"
      ]
     },
     "execution_count": 28,
     "metadata": {},
     "output_type": "execute_result"
    }
   ],
   "source": [
    "pca.components_"
   ]
  },
  {
   "cell_type": "code",
   "execution_count": 30,
   "id": "d8291fd4",
   "metadata": {},
   "outputs": [
    {
     "data": {
      "text/plain": [
       "array([13.30499079,  5.7013746 ])"
      ]
     },
     "execution_count": 30,
     "metadata": {},
     "output_type": "execute_result"
    }
   ],
   "source": [
    "#EIGEN VALUES\n",
    "pca.explained_variance_"
   ]
  },
  {
   "cell_type": "code",
   "execution_count": 33,
   "id": "907db8d5",
   "metadata": {},
   "outputs": [
    {
     "data": {
      "text/plain": [
       "array([[ 1.30339149,  0.36723765,  0.9101011 ,  0.91133853,  0.1720027 ,\n",
       "         0.487748  ,  0.65560648,  0.78035589,  0.15424669, -0.27303781,\n",
       "         0.71311887, -0.06241504,  0.70825606,  0.76233913, -0.2126399 ,\n",
       "         0.19274351,  0.18932195,  0.35662708, -0.1080577 , -0.05773542,\n",
       "         0.91721359,  0.3516714 ,  0.91683402,  0.90774026,  0.14777339,\n",
       "         0.41555337,  0.52494977,  0.7192851 ,  0.17126094,  0.03073   ],\n",
       "       [ 0.36723765,  0.55233517,  0.37288341,  0.36915886,  0.1319764 ,\n",
       "         0.27230792,  0.32696925,  0.36033416,  0.12471167, -0.02995897,\n",
       "         0.30927747, -0.00517176,  0.3113383 ,  0.31992372, -0.04531459,\n",
       "         0.15444314,  0.14319176,  0.20432777, -0.0013415 ,  0.04860503,\n",
       "         0.37498299,  0.15430477,  0.38022397,  0.37063369,  0.11675063,\n",
       "         0.23584869,  0.27531017,  0.33858614,  0.11962962,  0.0892345 ],\n",
       "       [ 0.9101011 ,  0.37288341,  1.30865653,  0.91307312,  0.20634419,\n",
       "         0.52947746,  0.69037593,  0.80599007,  0.18851495, -0.22953141,\n",
       "         0.72562014, -0.0515543 ,  0.7229486 ,  0.76986137, -0.1907589 ,\n",
       "         0.23480337,  0.22598929,  0.38999058, -0.08509886, -0.01854127,\n",
       "         0.92083977,  0.35881139,  0.92340473,  0.91106894,  0.17911457,\n",
       "         0.45320633,  0.56016196,  0.7464355 ,  0.19902435,  0.07271008],\n",
       "       [ 0.91133853,  0.36915886,  0.91307312,  1.30841539,  0.17860101,\n",
       "         0.49645367,  0.66347511,  0.78689003,  0.16078802, -0.26589006,\n",
       "         0.71712607, -0.06061653,  0.71264521,  0.76557267, -0.20923089,\n",
       "         0.2007806 ,  0.19638114,  0.36350517, -0.10419684, -0.05083162,\n",
       "         0.92012888,  0.35382283,  0.92027774,  0.91057869,  0.15377253,\n",
       "         0.42334802,  0.53257557,  0.72594113,  0.17667482,  0.03835295],\n",
       "       [ 0.1720027 ,  0.1319764 ,  0.20634419,  0.17860101,  0.84082885,\n",
       "         0.59052018,  0.53511346,  0.44586684,  0.44235446,  0.48054413,\n",
       "         0.27493519,  0.12095399,  0.3006753 ,  0.22304715,  0.2286619 ,\n",
       "         0.5435252 ,  0.47752034,  0.46636861,  0.25981753,  0.46545811,\n",
       "         0.20256252,  0.14741071,  0.23821512,  0.19731586,  0.40572873,\n",
       "         0.52858909,  0.51789505,  0.45370068,  0.36638978,  0.51454718],\n",
       "       [ 0.487748  ,  0.27230792,  0.52947746,  0.49645367,  0.59052018,\n",
       "         1.25617224,  0.84677071,  0.77782731,  0.58027138,  0.49432137,\n",
       "         0.55124552,  0.12636987,  0.58073796,  0.50396452,  0.20967653,\n",
       "         0.71397903,  0.63344536,  0.67167702,  0.2794837 ,  0.54263605,\n",
       "         0.52712006,  0.28608608,  0.56993255,  0.51787737,  0.53417115,\n",
       "         0.76479233,  0.78569435,  0.76840301,  0.49405503,  0.62906062],\n",
       "       [ 0.65560648,  0.32696925,  0.69037593,  0.66347511,  0.53511346,\n",
       "         0.84677071,  1.2757691 ,  0.85912626,  0.52171133,  0.33176435,\n",
       "         0.65345856,  0.0868707 ,  0.67643594,  0.62816252,  0.11375039,\n",
       "         0.64274861,  0.57535286,  0.65350405,  0.20047849,  0.43160572,\n",
       "         0.69041245,  0.33400007,  0.72562822,  0.68014783,  0.48187396,\n",
       "         0.7467429 ,  0.79446403,  0.83433744,  0.45532036,  0.52755372],\n",
       "       [ 0.78035589,  0.36033416,  0.80599007,  0.78689003,  0.44586684,\n",
       "         0.77782731,  0.85912626,  1.2794201 ,  0.43019067,  0.14912394,\n",
       "         0.71315919,  0.04209136,  0.72819739,  0.71131231,  0.01121955,\n",
       "         0.53090431,  0.48086541,  0.59365804,  0.10920279,  0.29374532,\n",
       "         0.80840143,  0.36021513,  0.83382111,  0.79777858,  0.39912048,\n",
       "         0.68105569,  0.75235592,  0.8464437 ,  0.38773295,  0.39301299],\n",
       "       [ 0.15424669,  0.12471167,  0.18851495,  0.16078802,  0.44235446,\n",
       "         0.58027138,  0.52171133,  0.43019067,  0.83326006,  0.48510908,\n",
       "         0.26080123,  0.12198147,  0.28659781,  0.20804006,  0.23242746,\n",
       "         0.5390269 ,  0.47318335,  0.45882498,  0.26152352,  0.46589756,\n",
       "         0.18460173,  0.14042352,  0.22021012,  0.17954513,  0.40229584,\n",
       "         0.51982046,  0.5070346 ,  0.43918957,  0.3625613 ,  0.51321159],\n",
       "       [-0.27303781, -0.02995897, -0.22953141, -0.26589006,  0.48054413,\n",
       "         0.49432137,  0.33176435,  0.14912394,  0.48510908,  1.16112236,\n",
       "        -0.03417697,  0.18952526,  0.00157677, -0.12768779,  0.40976675,\n",
       "         0.59430753,  0.51126716,  0.40593566,  0.39296585,  0.6301113 ,\n",
       "        -0.23826378, -0.00164048, -0.1921979 , -0.23986052,  0.44151834,\n",
       "         0.45392257,  0.38067285,  0.19241322,  0.37814372,  0.64514289],\n",
       "       [ 0.71311887,  0.30927747,  0.72562014,  0.71712607,  0.27493519,\n",
       "         0.55124552,  0.65345856,  0.71315919,  0.26080123, -0.03417697,\n",
       "         1.00139721, -0.00405608,  0.61208508,  0.62479469, -0.07586853,\n",
       "         0.32276865,  0.29797311,  0.41475924,  0.01003284,  0.11586463,\n",
       "         0.72946597,  0.3032821 ,  0.74125403,  0.72086457,  0.24374583,\n",
       "         0.4782708 ,  0.55348316,  0.67180228,  0.24736209,  0.19621941],\n",
       "       [-0.06241504, -0.00517176, -0.0515543 , -0.06061653,  0.12095399,\n",
       "         0.12636987,  0.0868707 ,  0.04209136,  0.12198147,  0.18952526,\n",
       "        -0.00405608,  0.44140365,  0.00483253, -0.02707466,  0.10088711,\n",
       "         0.14946326,  0.12872667,  0.10349944,  0.09735147,  0.15682488,\n",
       "        -0.05368809,  0.00179496, -0.04219893, -0.05414579,  0.11106681,\n",
       "         0.11583953,  0.09825243,  0.05250747,  0.09540467,  0.16112912],\n",
       "       [ 0.70825606,  0.3113383 ,  0.7229486 ,  0.71264521,  0.3006753 ,\n",
       "         0.58073796,  0.67643594,  0.72819739,  0.28659781,  0.00157677,\n",
       "         0.61208508,  0.00483253,  1.01354905,  0.62579178, -0.05740425,\n",
       "         0.35440868,  0.3254202 ,  0.43855251,  0.02866978,  0.14686897,\n",
       "         0.72642598,  0.30661053,  0.74051794,  0.71765271,  0.26729603,\n",
       "         0.50503937,  0.57764337,  0.6884167 ,  0.26796544,  0.22883469],\n",
       "       [ 0.76233913,  0.31992372,  0.76986137,  0.76557267,  0.22304715,\n",
       "         0.50396452,  0.62816252,  0.71131231,  0.20804006, -0.12768779,\n",
       "         0.62479469, -0.02707466,  0.62579178,  1.04894297, -0.1271598 ,\n",
       "         0.25820494,  0.24289164,  0.37507116, -0.03727566,  0.04227204,\n",
       "         0.77485086,  0.3103666 ,  0.78133406,  0.76624731,  0.1958705 ,\n",
       "         0.43421987,  0.5200008 ,  0.66377977,  0.20723517,  0.12263293],\n",
       "       [-0.2126399 , -0.04531459, -0.1907589 , -0.20923089,  0.2286619 ,\n",
       "         0.20967653,  0.11375039,  0.01121955,  0.23242746,  0.40976675,\n",
       "        -0.07586853,  0.10088711, -0.05740425, -0.1271598 ,  0.61902556,\n",
       "         0.2844368 ,  0.24276159,  0.17579427,  0.2074267 ,  0.32310985,\n",
       "        -0.19575542, -0.02972745, -0.17244932, -0.19578371,  0.21093506,\n",
       "         0.19519752,  0.14919826,  0.03811006,  0.17698477,  0.32343496],\n",
       "       [ 0.19274351,  0.15444314,  0.23480337,  0.2007806 ,  0.5435252 ,\n",
       "         0.71397903,  0.64274861,  0.53090431,  0.5390269 ,  0.59430753,\n",
       "         0.32276865,  0.14946326,  0.35440868,  0.25820494,  0.2844368 ,\n",
       "         1.0567598 ,  0.58142517,  0.56443852,  0.32054109,  0.57154693,\n",
       "         0.2300279 ,  0.17366625,  0.27372632,  0.22378634,  0.49427197,\n",
       "         0.63951777,  0.62424136,  0.54171649,  0.44559742,  0.62994785],\n",
       "       [ 0.18932195,  0.14319176,  0.22598929,  0.19638114,  0.47752034,\n",
       "         0.63344536,  0.57535286,  0.48086541,  0.47318335,  0.51126716,\n",
       "         0.29797311,  0.12872667,  0.3254202 ,  0.24289164,  0.24276159,\n",
       "         0.58142517,  0.90545945,  0.50008967,  0.27667718,  0.49651511,\n",
       "         0.22199701,  0.15957016,  0.26005387,  0.21633669,  0.43404464,\n",
       "         0.56688031,  0.55615151,  0.48884446,  0.39219773,  0.54947347],\n",
       "       [ 0.35662708,  0.20432777,  0.38999058,  0.36350517,  0.46636861,\n",
       "         0.67167702,  0.65350405,  0.59365804,  0.45882498,  0.40593566,\n",
       "         0.41475924,  0.10349944,  0.43855251,  0.37507116,  0.17579427,\n",
       "         0.56443852,  0.50008967,  0.9189797 ,  0.22778543,  0.43659347,\n",
       "         0.38783816,  0.21593886,  0.42212857,  0.38079137,  0.42215775,\n",
       "         0.596817  ,  0.6094746 ,  0.58838871,  0.38916494,  0.50248937],\n",
       "       [-0.1080577 , -0.0013415 , -0.08509886, -0.10419684,  0.25981753,\n",
       "         0.2794837 ,  0.20047849,  0.10920279,  0.26152352,  0.39296585,\n",
       "         0.01003284,  0.09735147,  0.02866978, -0.03727566,  0.2074267 ,\n",
       "         0.32054109,  0.27667718,  0.22778543,  0.59720622,  0.32954993,\n",
       "        -0.0894178 ,  0.01295927, -0.06517422, -0.09063101,  0.238314  ,\n",
       "         0.25537176,  0.22109819,  0.12959859,  0.20586388,  0.34094294],\n",
       "       [-0.05773542,  0.04860503, -0.01854127, -0.05083162,  0.46545811,\n",
       "         0.54263605,  0.43160572,  0.29374532,  0.46589756,  0.6301113 ,\n",
       "         0.11586463,  0.15682488,  0.14686897,  0.04227204,  0.32310985,\n",
       "         0.57154693,  0.49651511,  0.43659347,  0.32954993,  0.94666892,\n",
       "        -0.02489686,  0.07075589,  0.01625858, -0.02827167,  0.42555021,\n",
       "         0.49164832,  0.44854999,  0.31995101,  0.37364757,  0.58377605],\n",
       "       [ 0.91721359,  0.37498299,  0.92083977,  0.92012888,  0.20256252,\n",
       "         0.52712006,  0.69041245,  0.80840143,  0.18460173, -0.23826378,\n",
       "         0.72946597, -0.05368809,  0.72642598,  0.77485086, -0.19575542,\n",
       "         0.2300279 ,  0.22199701,  0.38783816, -0.0894178 , -0.02489686,\n",
       "         1.32217446,  0.36056137,  0.9297776 ,  0.91785618,  0.17558942,\n",
       "         0.45088215,  0.55908297,  0.74812863,  0.19622561,  0.06664591],\n",
       "       [ 0.3516714 ,  0.15430477,  0.35881139,  0.35382283,  0.14741071,\n",
       "         0.28608608,  0.33400007,  0.36021513,  0.14042352, -0.00164048,\n",
       "         0.3032821 ,  0.00179496,  0.30661053,  0.3103666 , -0.02972745,\n",
       "         0.17366625,  0.15957016,  0.21593886,  0.01295927,  0.07075589,\n",
       "         0.36056137,  0.54638972,  0.3673958 ,  0.3562209 ,  0.13100077,\n",
       "         0.24871914,  0.28491227,  0.34037447,  0.13153252,  0.11130715],\n",
       "       [ 0.91683402,  0.38022397,  0.92340473,  0.92027774,  0.23821512,\n",
       "         0.56993255,  0.72562822,  0.83382111,  0.22021012, -0.1921979 ,\n",
       "         0.74125403, -0.04219893,  0.74051794,  0.78133406, -0.17244932,\n",
       "         0.27372632,  0.26005387,  0.42212857, -0.06517422,  0.01625858,\n",
       "         0.9297776 ,  0.3673958 ,  1.32949761,  0.91968118,  0.20814399,\n",
       "         0.48955726,  0.59500156,  0.77524808,  0.22499004,  0.11055728],\n",
       "       [ 0.90774026,  0.37063369,  0.91106894,  0.91057869,  0.19731586,\n",
       "         0.51787737,  0.68014783,  0.79777858,  0.17954513, -0.23986052,\n",
       "         0.72086457, -0.05414579,  0.71765271,  0.76624731, -0.19578371,\n",
       "         0.22378634,  0.21633669,  0.38079137, -0.09063101, -0.02827167,\n",
       "         0.91785618,  0.3562209 ,  0.91968118,  1.30269771,  0.1708958 ,\n",
       "         0.44279487,  0.55011753,  0.73798046,  0.19165266,  0.06207899],\n",
       "       [ 0.14777339,  0.11675063,  0.17911457,  0.15377253,  0.40572873,\n",
       "         0.53417115,  0.48187396,  0.39912048,  0.40229584,  0.44151834,\n",
       "         0.24374583,  0.11106681,  0.26729603,  0.1958705 ,  0.21093506,\n",
       "         0.49427197,  0.43404464,  0.42215775,  0.238314  ,  0.42555021,\n",
       "         0.17558942,  0.13100077,  0.20814399,  0.1708958 ,  0.76343879,\n",
       "         0.47836418,  0.46748544,  0.40689526,  0.33276691,  0.46946661],\n",
       "       [ 0.41555337,  0.23584869,  0.45320633,  0.42334802,  0.52858909,\n",
       "         0.76479233,  0.7467429 ,  0.68105569,  0.51982046,  0.45392257,\n",
       "         0.4782708 ,  0.11583953,  0.50503937,  0.43421987,  0.19519752,\n",
       "         0.63951777,  0.56688031,  0.596817  ,  0.25537176,  0.49164832,\n",
       "         0.45088215,  0.24871914,  0.48955726,  0.44279487,  0.47836418,\n",
       "         1.07381019,  0.69516911,  0.67422028,  0.44149011,  0.56727228],\n",
       "       [ 0.52494977,  0.27531017,  0.56016196,  0.53257557,  0.51789505,\n",
       "         0.78569435,  0.79446403,  0.75235592,  0.5070346 ,  0.38067285,\n",
       "         0.55348316,  0.09825243,  0.57764337,  0.5200008 ,  0.14919826,\n",
       "         0.62424136,  0.55615151,  0.6094746 ,  0.22109819,  0.44854999,\n",
       "         0.55908297,  0.28491227,  0.59500156,  0.55011753,  0.46748544,\n",
       "         0.69516911,  1.1211102 ,  0.73669829,  0.43676085,  0.53236749],\n",
       "       [ 0.7192851 ,  0.33858614,  0.7464355 ,  0.72594113,  0.45370068,\n",
       "         0.76840301,  0.83433744,  0.8464437 ,  0.43918957,  0.19241322,\n",
       "         0.67180228,  0.05250747,  0.6884167 ,  0.66377977,  0.03811006,\n",
       "         0.54171649,  0.48884446,  0.58838871,  0.12959859,  0.31995101,\n",
       "         0.74812863,  0.34037447,  0.77524808,  0.73798046,  0.40689526,\n",
       "         0.67422028,  0.73669829,  1.20751191,  0.39187754,  0.41479033],\n",
       "       [ 0.17126094,  0.11962962,  0.19902435,  0.17667482,  0.36638978,\n",
       "         0.49405503,  0.45532036,  0.38773295,  0.3625613 ,  0.37814372,\n",
       "         0.24736209,  0.09540467,  0.26796544,  0.20723517,  0.17698477,\n",
       "         0.44559742,  0.39219773,  0.38916494,  0.20586388,  0.37364757,\n",
       "         0.19622561,  0.13153252,  0.22499004,  0.19165266,  0.33276691,\n",
       "         0.44149011,  0.43676085,  0.39187754,  0.69636744,  0.41642717],\n",
       "       [ 0.03073   ,  0.0892345 ,  0.07271008,  0.03835295,  0.51454718,\n",
       "         0.62906062,  0.52755372,  0.39301299,  0.51321159,  0.64514289,\n",
       "         0.19621941,  0.16112912,  0.22883469,  0.12263293,  0.32343496,\n",
       "         0.62994785,  0.54947347,  0.50248937,  0.34094294,  0.58377605,\n",
       "         0.06664591,  0.11130715,  0.11055728,  0.06207899,  0.46946661,\n",
       "         0.56727228,  0.53236749,  0.41479033,  0.41642717,  1.02105505]])"
      ]
     },
     "execution_count": 33,
     "metadata": {},
     "output_type": "execute_result"
    }
   ],
   "source": [
    "#COVARINACE\n",
    "pca.get_covariance()"
   ]
  },
  {
   "cell_type": "code",
   "execution_count": null,
   "id": "95b6a149",
   "metadata": {},
   "outputs": [],
   "source": []
  }
 ],
 "metadata": {
  "kernelspec": {
   "display_name": "Python 3 (ipykernel)",
   "language": "python",
   "name": "python3"
  },
  "language_info": {
   "codemirror_mode": {
    "name": "ipython",
    "version": 3
   },
   "file_extension": ".py",
   "mimetype": "text/x-python",
   "name": "python",
   "nbconvert_exporter": "python",
   "pygments_lexer": "ipython3",
   "version": "3.9.12"
  }
 },
 "nbformat": 4,
 "nbformat_minor": 5
}
