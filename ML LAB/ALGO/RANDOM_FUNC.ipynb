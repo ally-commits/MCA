{
 "cells": [
  {
   "cell_type": "code",
   "execution_count": 7,
   "id": "008afecd",
   "metadata": {},
   "outputs": [],
   "source": [
    "import random"
   ]
  },
  {
   "cell_type": "code",
   "execution_count": 8,
   "id": "a511910d",
   "metadata": {},
   "outputs": [
    {
     "data": {
      "text/plain": [
       "0.9045719402699489"
      ]
     },
     "execution_count": 8,
     "metadata": {},
     "output_type": "execute_result"
    }
   ],
   "source": [
    "# GET RANDOM FROM 0 - 1\n",
    "random.random()"
   ]
  },
  {
   "cell_type": "code",
   "execution_count": 12,
   "id": "c4b980d7",
   "metadata": {},
   "outputs": [
    {
     "data": {
      "text/plain": [
       "2"
      ]
     },
     "execution_count": 12,
     "metadata": {},
     "output_type": "execute_result"
    }
   ],
   "source": [
    "#RANDOM NUMBER BETWEEN 0 -10\n",
    "random.randint(0,10)"
   ]
  },
  {
   "cell_type": "code",
   "execution_count": 18,
   "id": "fb9a62fe",
   "metadata": {},
   "outputs": [
    {
     "data": {
      "text/plain": [
       "[80, 16, 12, 31, 39, 86, 20, 37, 4, 73]"
      ]
     },
     "execution_count": 18,
     "metadata": {},
     "output_type": "execute_result"
    }
   ],
   "source": [
    "#ARRAY OF RANDOM NUMBERS FROM 0 - 100 OF LENGTH 10 \n",
    "randList = random.sample(range(0,100),10)\n",
    "randList"
   ]
  },
  {
   "cell_type": "code",
   "execution_count": 19,
   "id": "ae4a42a0",
   "metadata": {},
   "outputs": [
    {
     "data": {
      "text/plain": [
       "12"
      ]
     },
     "execution_count": 19,
     "metadata": {},
     "output_type": "execute_result"
    }
   ],
   "source": [
    "#CHOOSE RANDOM FROM LIST\n",
    "random.choice(randList)"
   ]
  },
  {
   "cell_type": "code",
   "execution_count": 27,
   "id": "3e34eef3",
   "metadata": {},
   "outputs": [
    {
     "data": {
      "text/plain": [
       "2"
      ]
     },
     "execution_count": 27,
     "metadata": {},
     "output_type": "execute_result"
    }
   ],
   "source": [
    "random.randrange(2,10,5)"
   ]
  },
  {
   "cell_type": "code",
   "execution_count": 33,
   "id": "a2d09298",
   "metadata": {},
   "outputs": [
    {
     "name": "stdout",
     "output_type": "stream",
     "text": [
      "[1, 4, 5, 7, 8, 9, 11]\n"
     ]
    },
    {
     "data": {
      "text/plain": [
       "[11, 9, 8, 7, 5, 4, 1]"
      ]
     },
     "execution_count": 33,
     "metadata": {},
     "output_type": "execute_result"
    }
   ],
   "source": [
    "#SORT LIST\n",
    "l1 = [4,5,11,7,8,9,1]\n",
    "l1.sort()\n",
    "print(l1)\n",
    "l1.sort(reverse=True)\n",
    "l1"
   ]
  },
  {
   "cell_type": "code",
   "execution_count": 35,
   "id": "520b2e5f",
   "metadata": {},
   "outputs": [
    {
     "data": {
      "text/plain": [
       "[11, 9, 8, 7, 5]"
      ]
     },
     "execution_count": 35,
     "metadata": {},
     "output_type": "execute_result"
    }
   ],
   "source": []
  },
  {
   "cell_type": "code",
   "execution_count": null,
   "id": "f7480098",
   "metadata": {},
   "outputs": [],
   "source": []
  }
 ],
 "metadata": {
  "kernelspec": {
   "display_name": "Python 3 (ipykernel)",
   "language": "python",
   "name": "python3"
  },
  "language_info": {
   "codemirror_mode": {
    "name": "ipython",
    "version": 3
   },
   "file_extension": ".py",
   "mimetype": "text/x-python",
   "name": "python",
   "nbconvert_exporter": "python",
   "pygments_lexer": "ipython3",
   "version": "3.9.12"
  }
 },
 "nbformat": 4,
 "nbformat_minor": 5
}
