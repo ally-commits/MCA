{
 "cells": [
  {
   "cell_type": "code",
   "execution_count": 8,
   "id": "c86fe113",
   "metadata": {},
   "outputs": [
    {
     "data": {
      "text/plain": [
       "3"
      ]
     },
     "execution_count": 8,
     "metadata": {},
     "output_type": "execute_result"
    }
   ],
   "source": [
    "#COUNT DIGIT IN STRING\n",
    "str = \"Alwin Carsta 003\"\n",
    "digitCount = 0;\n",
    "\n",
    "for s in str:\n",
    "    if(s.isdigit()):\n",
    "        digitCount = digitCount + 1\n",
    "        \n",
    "digitCount"
   ]
  },
  {
   "cell_type": "code",
   "execution_count": 14,
   "id": "2034e741",
   "metadata": {},
   "outputs": [
    {
     "data": {
      "text/plain": [
       "[5, 2, 3, 4, 1]"
      ]
     },
     "execution_count": 14,
     "metadata": {},
     "output_type": "execute_result"
    }
   ],
   "source": [
    "# INTERCHANGE FIRST AND LAST ELEMENT\n",
    "x = [1,2,3,4,5]\n",
    "\n",
    "a = x[0]\n",
    "x[0] = x[len(x) - 1]\n",
    "x[len(x) - 1] = a\n",
    "\n",
    "x"
   ]
  },
  {
   "cell_type": "code",
   "execution_count": null,
   "id": "f9836992",
   "metadata": {},
   "outputs": [],
   "source": []
  }
 ],
 "metadata": {
  "kernelspec": {
   "display_name": "Python 3 (ipykernel)",
   "language": "python",
   "name": "python3"
  },
  "language_info": {
   "codemirror_mode": {
    "name": "ipython",
    "version": 3
   },
   "file_extension": ".py",
   "mimetype": "text/x-python",
   "name": "python",
   "nbconvert_exporter": "python",
   "pygments_lexer": "ipython3",
   "version": "3.9.12"
  }
 },
 "nbformat": 4,
 "nbformat_minor": 5
}
