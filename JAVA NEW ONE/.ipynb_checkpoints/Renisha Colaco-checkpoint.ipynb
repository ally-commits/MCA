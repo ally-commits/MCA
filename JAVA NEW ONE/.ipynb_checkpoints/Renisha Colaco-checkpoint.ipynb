{
 "cells": [
  {
   "cell_type": "markdown",
   "metadata": {},
   "source": [
    "# Problem statement 1\n",
    "\n",
    "a) Create three sine functions: sin(x), sin (2x) and sin (x/2), where x=(-pi,+pi) and has a total of 256 values.\\\n",
    "b) Plot these three functions in matplotlib using three different line styles and colours.\\\n",
    "c) Can you overplot sin(x) and cos(x)?\\\n",
    "d) Save the figure as test.png."
   ]
  },
  {
   "cell_type": "code",
   "execution_count": null,
   "metadata": {},
   "outputs": [],
   "source": []
  },
  {
   "attachments": {},
   "cell_type": "markdown",
   "metadata": {},
   "source": [
    "# Problem Statement 2\n",
    "using the data.csv file given perform the following tasks:\n",
    "\n",
    "a) read the csv file using python and create a dataframe.\\\n",
    "b) Using data frame show the total number of columns in the data?\\\n",
    "c) Please find out the values of the total number of arrest_made and citation_issued.\\\n",
    "d) In \"service_area\" column replace value of Bulletin to 1000 , county to 2000 and Unknown to -1 and print the unique value of \"service_area\".\\\n",
    "e) select the dataframe rows where \"subject_age\" is NOT NA and print unique value of \"subject_age\"."
   ]
  },
  {
   "cell_type": "code",
   "execution_count": null,
   "metadata": {},
   "outputs": [],
   "source": []
  },
  {
   "attachments": {},
   "cell_type": "markdown",
   "metadata": {},
   "source": [
    "# Problem statement 3\n",
    "\n",
    "a) Using above dataframe Please plot the arrest_made vs the date."
   ]
  },
  {
   "cell_type": "markdown",
   "metadata": {},
   "source": []
  }
 ],
 "metadata": {
  "kernelspec": {
   "display_name": "base",
   "language": "python",
   "name": "python3"
  },
  "language_info": {
   "codemirror_mode": {
    "name": "ipython",
    "version": 3
   },
   "file_extension": ".py",
   "mimetype": "text/x-python",
   "name": "python",
   "nbconvert_exporter": "python",
   "pygments_lexer": "ipython3",
   "version": "3.9.12 (main, Apr  4 2022, 05:22:27) [MSC v.1916 64 bit (AMD64)]"
  },
  "varInspector": {
   "cols": {
    "lenName": 16,
    "lenType": 16,
    "lenVar": 40
   },
   "kernels_config": {
    "python": {
     "delete_cmd_postfix": "",
     "delete_cmd_prefix": "del ",
     "library": "var_list.py",
     "varRefreshCmd": "print(var_dic_list())"
    },
    "r": {
     "delete_cmd_postfix": ") ",
     "delete_cmd_prefix": "rm(",
     "library": "var_list.r",
     "varRefreshCmd": "cat(var_dic_list()) "
    }
   },
   "types_to_exclude": [
    "module",
    "function",
    "builtin_function_or_method",
    "instance",
    "_Feature"
   ],
   "window_display": false
  },
  "vscode": {
   "interpreter": {
    "hash": "22b4fba6d602d3c04970d207454987d19a8e32bd2bafc62dc52eed7b56f080e2"
   }
  }
 },
 "nbformat": 4,
 "nbformat_minor": 2
}
